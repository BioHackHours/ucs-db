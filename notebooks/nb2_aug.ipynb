{
 "cells": [
  {
   "cell_type": "markdown",
   "metadata": {},
   "source": [
    "## Notebook 1\n",
    "# Extraindo coordenadas de decretos e leis"
   ]
  },
  {
   "cell_type": "markdown",
   "metadata": {},
   "source": [
    "Autores:\n",
    "* Pedro C. de Siracusa\n",
    "* André G. Coutinho\n",
    "* Waira Saravia Machida\n",
    "* Augusto Arcela\n",
    "* Yan Felipe Soares"
   ]
  },
  {
   "cell_type": "markdown",
   "metadata": {},
   "source": [
    "---"
   ]
  },
  {
   "cell_type": "markdown",
   "metadata": {},
   "source": [
    "Neste estudo exploramos decretos e leis que embasam a criação de UCs, em âmbitos Federal e Municipal.\n",
    "O objetivo é extrair as coordenadas que delimitam as UCs, de forma que possamos posteriormente projetar o polígono em um ambiente SIG. \n",
    "Os **principais desafios**:\n",
    "\n",
    "* Os documentos estão no formato `.pdf`, não muito amigável para a extração de dados. Algumas bibliotecas auxiliam na extração de texto de arquivos `.pdf`, mas elas nem sempre funcionam como esperamos. Isso porque estes arquivos podem ter sido codificados de muitas formas diferentes, e nem sempre conseguimos fazer a extração.\n",
    "\n",
    "* Os documentos não seguem um padrão estrutural, o que significa que nem sempre a informação que desejamos está no mesmo lugar ou se apresenta da mesma forma. Isso dificulta a extração inteiramente automatizada da informação nestes documentos.\n",
    "\n",
    "* A delimitação das UCs é apresentada de forma descritiva nestes documentos. Em alguns poucos casos as coordenadas são organizadas em uma tabela, facilitando um pouco a extração."
   ]
  },
  {
   "cell_type": "markdown",
   "metadata": {},
   "source": [
    "Vamos explorar a **Lei No.4771** da Casa Civil da Presidencia da Republica, que determina os limites do Parque Nacional da Serra da Canastra.\n",
    "O documento está nomeado com o`l4771.pdf`, localizado dentro do diretório `data`, na raiz do projeto."
   ]
  },
  {
   "cell_type": "markdown",
   "metadata": {},
   "source": [
    "O primeiro passo foi extrair (manualmente) a parte do documento que descreve a delimitação da UC.\n",
    "Armazenamos esta informação no arquivo `l4771_limits.txt`, para facilitar a leitura e extração de coordenadas do texto."
   ]
  },
  {
   "cell_type": "code",
   "execution_count": 225,
   "metadata": {},
   "outputs": [],
   "source": [
    "fpath = '../data/decretos/limits/l4771_limits.txt'"
   ]
  },
  {
   "cell_type": "markdown",
   "metadata": {},
   "source": [
    "Agora vamos abrir o arquivo, ler as linhas de texto e armazenar numa variável `lines`. Na célula abaixo usamos uma estrutura do *Python* que se chama [context manager](https://docs.python.org/3/reference/compound_stmts.html#with), para facilitar a abertura/fechamento de arquivos."
   ]
  },
  {
   "cell_type": "code",
   "execution_count": 226,
   "metadata": {},
   "outputs": [],
   "source": [
    "with open(fpath, encoding='UTF-8') as f:\n",
    "    lines =''.join( f.readlines() )"
   ]
  },
  {
   "cell_type": "markdown",
   "metadata": {},
   "source": [
    "Vejamos os 1000 primeiros caracteres do texto:"
   ]
  },
  {
   "cell_type": "code",
   "execution_count": 227,
   "metadata": {},
   "outputs": [
    {
     "data": {
      "text/plain": [
       "'Art. 2º O Parque Nacional da Serra da Canastra, com uma área estimada em 200.000 ha (duzentos mil hectares), é\\ndelimitado por ma linha assim definida: no extremo oeste, inicia-se no Ribeirão do Engano, 2,5km acima de sua foz, na\\nrepresa de Peixotos, na altura do meridiano de longitude 47º 00\\' 00\" W e do paralelo de latitude 20º 11\\' 30\" S (Ponto 1);\\nseguindo por esse Ribeirão acima até suas cabeceiras, junto ao ponto de latitude 20º 05\\' 20\" S e longitude 46º 55\\' 10\" W\\n(Ponto 2); segue em linha reta, rumo ao norte pelo meridiano 46º 55\\' 10\" W, numa distância de 7km, até atingir o ponto\\nde latitude 20º 04\\' 32\" S (Ponto 3); desse ponto, vira à direita e segue em linha reta numa extensão de 18,5km, até\\natingir o ponto de latitude 20º 06\\' 30\" S e longitude 46º 45\\' 40\" W, na altura da Fazenda da Cachoeira (Ponto 4); daí, vira\\nà direita, no sentido sudeste, seguindo numa linha reta com extensão de 11km até encontrar a interseção da latitude 20º 08\\' 30\" S e \\ncom a longitude 46º 39\\' 55\" W (Ponto (...)'"
      ]
     },
     "execution_count": 227,
     "metadata": {},
     "output_type": "execute_result"
    }
   ],
   "source": [
    "lines[:1000]+' (...)'"
   ]
  },
  {
   "cell_type": "markdown",
   "metadata": {},
   "source": [
    "Neste caso, as coordenadas parecem estar descritas em UTM seguindo o padrão `E-X.XXX,XXX e N-X.XXX,XXX`.\n",
    "Para extrair o texto que segue este padrão vamos usar **expressões regulares**."
   ]
  },
  {
   "cell_type": "code",
   "execution_count": 228,
   "metadata": {},
   "outputs": [
    {
     "data": {
      "text/plain": [
       "5702"
      ]
     },
     "execution_count": 228,
     "metadata": {},
     "output_type": "execute_result"
    }
   ],
   "source": [
    "len(lines)"
   ]
  },
  {
   "cell_type": "markdown",
   "metadata": {},
   "source": [
    "---"
   ]
  },
  {
   "cell_type": "markdown",
   "metadata": {},
   "source": [
    "## Regular Expressions"
   ]
  },
  {
   "cell_type": "markdown",
   "metadata": {},
   "source": [
    "Expressões regulares servem para definirmos padrões de busca em um texto. Uma vez definido o padrão que desejamos buscar, o texto é percorrido tentando encontrar \"casamentos\", que podem então ser retornados. Usaremos expressões regulares para tentar extrair as coordenadas, assumindo que elas tenham sido inseridas em um padrão relativamente estável."
   ]
  },
  {
   "cell_type": "markdown",
   "metadata": {},
   "source": [
    "Alguns exemplos e guias de como se utilizar expressões regulares: \n",
    "1. https://medium.com/tech-tajawal/regular-expressions-the-last-guide-6800283ac034\n",
    "1. https://medium.com/factory-mind/regex-tutorial-a-simple-cheatsheet-by-examples-649dc1c3f285\n",
    "1. http://www.rexegg.com/regex-quickstart.html#ref"
   ]
  },
  {
   "cell_type": "markdown",
   "metadata": {},
   "source": [
    "O *Python* já fornece um módulo que nos permite trabalhar com expressões regulares de forma facilitada. O nome do módulo é `re`, e para usá-lo precisamos importá-lo. Veja [aqui](https://docs.python.org/3/howto/regex.html) como usar expressões regulares com o módulo `re`."
   ]
  },
  {
   "cell_type": "code",
   "execution_count": 6,
   "metadata": {},
   "outputs": [],
   "source": [
    "import re"
   ]
  },
  {
   "cell_type": "markdown",
   "metadata": {},
   "source": [
    "#### Primeira tentativa"
   ]
  },
  {
   "cell_type": "markdown",
   "metadata": {},
   "source": [
    "Abaixo vamos fazer uma primeira tentativa de expressão para capturar as coordenadas. Guardamos a expressão em uma variável de nome `expr`."
   ]
  },
  {
   "cell_type": "code",
   "execution_count": 229,
   "metadata": {},
   "outputs": [],
   "source": [
    "expr = '[0-9]{1,2}º [0-9]{1,2}\\'? ?[0-9]{0,2}\"? [WS]'"
   ]
  },
  {
   "cell_type": "markdown",
   "metadata": {},
   "source": [
    "Agora vamos usar a função `findall` para encontrar todos os *\"matches\"* para esta expressão. As coordenadas obtidas são armazenadas na variável `coords`. Para melhorar a visualização vou olhar apenas para as 10 primeiras coordenadas que foram obtidas."
   ]
  },
  {
   "cell_type": "code",
   "execution_count": 230,
   "metadata": {},
   "outputs": [],
   "source": [
    "coords = re.findall( expr , lines )"
   ]
  },
  {
   "cell_type": "code",
   "execution_count": 231,
   "metadata": {},
   "outputs": [
    {
     "data": {
      "text/plain": [
       "['47º 00\\' 00\" W',\n",
       " '20º 11\\' 30\" S',\n",
       " '20º 05\\' 20\" S',\n",
       " '46º 55\\' 10\" W',\n",
       " '46º 55\\' 10\" W',\n",
       " '20º 04\\' 32\" S',\n",
       " '20º 06\\' 30\" S',\n",
       " '46º 45\\' 40\" W',\n",
       " '20º 08\\' 30\" S',\n",
       " '46º 39\\' 55\" W',\n",
       " '20º 08\\' 30\" S',\n",
       " '46º 35\\' 15\" W',\n",
       " '20º 08\\' 20\" S',\n",
       " '46º 28\\' 32\" W',\n",
       " '46º 23\\' 44\" W',\n",
       " '20º 12\\' 00\" S',\n",
       " '46º 20\\' 52\" W',\n",
       " '20º 18\\' 00\" S',\n",
       " '46º 25\\' 27\" W',\n",
       " '20º 19\\' 43\" S',\n",
       " '46º 25\\' 51\" W',\n",
       " '20º 16\\' 55\" S',\n",
       " \"46º 03' W\",\n",
       " '20º 18\\' 37\" S',\n",
       " '46º 31\\' 03\" W',\n",
       " '20º 20\\' 27\" S',\n",
       " '46º 17\\' 09\" W',\n",
       " '20º 31\\' 32\" S',\n",
       " '46º 15\\' 00\" W',\n",
       " '20º 30\\' 27\" S',\n",
       " '46º 12\\' 02\" W',\n",
       " '20º 32\\' 09\" S',\n",
       " '20º 32\\' 09\" S',\n",
       " '20º 35\\' 29\" S',\n",
       " '46º 13\\' 18\" W',\n",
       " '20º 38\\' 55\" S',\n",
       " '46º 18\\' 51\" W',\n",
       " '46º 30\\' 02\" W',\n",
       " '20º 30\\' 22\" S',\n",
       " '20º 37\\' 35\" S',\n",
       " '46º 30\\' 03\" W',\n",
       " '46º 33\\' 21\" W',\n",
       " '20º 30\\' 29\" S',\n",
       " '20º 16\\' 48\" S',\n",
       " '46º 52\\' 17\" W',\n",
       " '46º 43\\' 14\" W',\n",
       " '20º 18\\'55\" S',\n",
       " '46º 43\\' 14\" W',\n",
       " '20º 17\\' 08\" S',\n",
       " '46º 57\\' 25\" W',\n",
       " '20º 11\\' 30\" S',\n",
       " '20º 11\\' 30\" S']"
      ]
     },
     "execution_count": 231,
     "metadata": {},
     "output_type": "execute_result"
    }
   ],
   "source": [
    "coords"
   ]
  },
  {
   "cell_type": "markdown",
   "metadata": {},
   "source": [
    "Quantas coordenadas foram obtidas ao todo?"
   ]
  },
  {
   "cell_type": "code",
   "execution_count": 232,
   "metadata": {},
   "outputs": [
    {
     "data": {
      "text/plain": [
       "52"
      ]
     },
     "execution_count": 232,
     "metadata": {},
     "output_type": "execute_result"
    }
   ],
   "source": [
    "len(coords)"
   ]
  },
  {
   "cell_type": "markdown",
   "metadata": {},
   "source": [
    "Um problema deste método que usamos acima é que fica um pouco difícil validar se as coordenadas realmente estão sendo extraídas em pares. Caso uma delas não tenha sido capturada, isso pode gerar uma deformação do polígono extraído."
   ]
  },
  {
   "cell_type": "markdown",
   "metadata": {},
   "source": [
    "#### Segunda tentativa"
   ]
  },
  {
   "cell_type": "markdown",
   "metadata": {},
   "source": [
    "Vamos fazer uma segunda tentativa separando os pares em latitude e longitude. Agora, queremos incluir também as palavras 'longitude' (ou 'meridiano', em uma exceção) e 'latitude', que parece sempre indicar um novo par de coordenadas no texto original. Dessa forma fica mais fácil de avaliar se as coordenadas estão formando os pares corretamente."
   ]
  },
  {
   "cell_type": "code",
   "execution_count": 262,
   "metadata": {},
   "outputs": [],
   "source": [
    "expr_long = 'longitude *[0-9]{1,2}º [0-9]{1,2}\\'? ?[0-9]{0,2}\"? W|meridiano +[0-9]{1,2}º [0-9]{1,2}\\'? ?[0-9]{0,2}\"? W'"
   ]
  },
  {
   "cell_type": "code",
   "execution_count": 263,
   "metadata": {},
   "outputs": [],
   "source": [
    "coords_long = re.findall( expr_long, lines )"
   ]
  },
  {
   "cell_type": "code",
   "execution_count": 264,
   "metadata": {
    "scrolled": true
   },
   "outputs": [
    {
     "data": {
      "text/plain": [
       "['longitude 47º 00\\' 00\" W',\n",
       " 'longitude 46º 55\\' 10\" W',\n",
       " 'meridiano 46º 55\\' 10\" W',\n",
       " 'longitude 46º 45\\' 40\" W',\n",
       " 'longitude 46º 39\\' 55\" W',\n",
       " 'longitude 46º 35\\' 15\" W',\n",
       " 'longitude 46º 28\\' 32\" W',\n",
       " 'longitude 46º 23\\' 44\" W',\n",
       " 'longitude 46º 20\\' 52\" W',\n",
       " 'longitude 46º 25\\' 27\" W',\n",
       " 'longitude 46º 25\\' 51\" W',\n",
       " \"longitude 46º 03' W\",\n",
       " 'longitude 46º 31\\' 03\" W',\n",
       " 'longitude 46º 17\\' 09\" W',\n",
       " 'longitude 46º 15\\' 00\" W',\n",
       " 'longitude 46º 12\\' 02\" W',\n",
       " 'longitude 46º 13\\' 18\" W',\n",
       " 'longitude 46º 18\\' 51\" W',\n",
       " 'longitude 46º 30\\' 02\" W',\n",
       " 'longitude 46º 30\\' 03\" W',\n",
       " 'longitude 46º 33\\' 21\" W',\n",
       " 'longitude 46º 52\\' 17\" W',\n",
       " 'longitude 46º 43\\' 14\" W',\n",
       " 'longitude 46º 43\\' 14\" W',\n",
       " 'longitude 46º 57\\' 25\" W']"
      ]
     },
     "execution_count": 264,
     "metadata": {},
     "output_type": "execute_result"
    }
   ],
   "source": [
    "coords_long # observando apenas as primeiras 10 entradas"
   ]
  },
  {
   "cell_type": "markdown",
   "metadata": {},
   "source": [
    "Podemos simplificar a parte da lista que nos interessa através desse código omitindo as palavras que as antecedem se determinarmos W (para longitude) ou S (para latitude)."
   ]
  },
  {
   "cell_type": "code",
   "execution_count": 266,
   "metadata": {},
   "outputs": [],
   "source": [
    "expr_lat = 'latitude d?e? ?[0-9]{1,2}º [0-9]{1,2}\\'? ?[0-9]{0,2}\"? S'"
   ]
  },
  {
   "cell_type": "code",
   "execution_count": 267,
   "metadata": {
    "scrolled": true
   },
   "outputs": [],
   "source": [
    "coords_lat = re.findall( expr_lat, lines )"
   ]
  },
  {
   "cell_type": "code",
   "execution_count": 268,
   "metadata": {},
   "outputs": [
    {
     "data": {
      "text/plain": [
       "['latitude 20º 11\\' 30\" S',\n",
       " 'latitude 20º 05\\' 20\" S',\n",
       " 'latitude 20º 04\\' 32\" S',\n",
       " 'latitude 20º 06\\' 30\" S',\n",
       " 'latitude 20º 08\\' 30\" S',\n",
       " 'latitude 20º 08\\' 30\" S',\n",
       " 'latitude 20º 08\\' 20\" S',\n",
       " 'latitude de 20º 12\\' 00\" S',\n",
       " 'latitude 20º 18\\' 00\" S',\n",
       " 'latitude 20º 19\\' 43\" S',\n",
       " 'latitude 20º 16\\' 55\" S',\n",
       " 'latitude 20º 18\\' 37\" S',\n",
       " 'latitude 20º 20\\' 27\" S',\n",
       " 'latitude 20º 31\\' 32\" S',\n",
       " 'latitude 20º 30\\' 27\" S',\n",
       " 'latitude de 20º 32\\' 09\" S',\n",
       " 'latitude 20º 32\\' 09\" S',\n",
       " 'latitude 20º 35\\' 29\" S',\n",
       " 'latitude 20º 38\\' 55\" S',\n",
       " 'latitude 20º 30\\' 22\" S',\n",
       " 'latitude 20º 37\\' 35\" S',\n",
       " 'latitude 20º 30\\' 29\" S',\n",
       " 'latitude 20º 16\\' 48\" S',\n",
       " 'latitude 20º 18\\'55\" S',\n",
       " 'latitude 20º 17\\' 08\" S',\n",
       " 'latitude de 20º 11\\' 30\" S',\n",
       " 'latitude 20º 11\\' 30\" S']"
      ]
     },
     "execution_count": 268,
     "metadata": {},
     "output_type": "execute_result"
    }
   ],
   "source": [
    "coords_lat"
   ]
  },
  {
   "cell_type": "code",
   "execution_count": 304,
   "metadata": {},
   "outputs": [],
   "source": [
    "expr_long0 = '[0-9]{1,2}º [0-9]{1,2}\\'? ?[0-9]{0,2}\"? W|[0-9]{1,2}º [0-9]{1,2}\\'? ?[0-9]{0,2}\"? W'"
   ]
  },
  {
   "cell_type": "code",
   "execution_count": 305,
   "metadata": {},
   "outputs": [],
   "source": [
    "coords_long0 = re.findall( expr_long0, lines )"
   ]
  },
  {
   "cell_type": "code",
   "execution_count": 306,
   "metadata": {},
   "outputs": [
    {
     "data": {
      "text/plain": [
       "['47º 00\\' 00\" W',\n",
       " '46º 55\\' 10\" W',\n",
       " '46º 55\\' 10\" W',\n",
       " '46º 45\\' 40\" W',\n",
       " '46º 39\\' 55\" W',\n",
       " '46º 35\\' 15\" W',\n",
       " '46º 28\\' 32\" W',\n",
       " '46º 23\\' 44\" W',\n",
       " '46º 20\\' 52\" W',\n",
       " '46º 25\\' 27\" W',\n",
       " '46º 25\\' 51\" W',\n",
       " \"46º 03' W\",\n",
       " '46º 31\\' 03\" W',\n",
       " '46º 17\\' 09\" W',\n",
       " '46º 15\\' 00\" W',\n",
       " '46º 12\\' 02\" W',\n",
       " '46º 13\\' 18\" W',\n",
       " '46º 18\\' 51\" W',\n",
       " '46º 30\\' 02\" W',\n",
       " '46º 30\\' 03\" W',\n",
       " '46º 33\\' 21\" W',\n",
       " '46º 52\\' 17\" W',\n",
       " '46º 43\\' 14\" W',\n",
       " '46º 43\\' 14\" W',\n",
       " '46º 57\\' 25\" W']"
      ]
     },
     "execution_count": 306,
     "metadata": {},
     "output_type": "execute_result"
    }
   ],
   "source": [
    "coords_long0"
   ]
  },
  {
   "cell_type": "markdown",
   "metadata": {},
   "source": [
    "No texto original, existem no total 2361 vértices. Quantos vértices conseguimos extrair com o método acima?"
   ]
  },
  {
   "cell_type": "code",
   "execution_count": 307,
   "metadata": {},
   "outputs": [
    {
     "data": {
      "text/plain": [
       "25"
      ]
     },
     "execution_count": 307,
     "metadata": {},
     "output_type": "execute_result"
    }
   ],
   "source": [
    "len(coords_long0)"
   ]
  },
  {
   "cell_type": "markdown",
   "metadata": {},
   "source": [
    "---"
   ]
  },
  {
   "cell_type": "code",
   "execution_count": 270,
   "metadata": {},
   "outputs": [],
   "source": [
    "expr_lat0 = '[0-9]{1,2}º [0-9]{1,2}\\'? ?[0-9]{0,2}\"? S'"
   ]
  },
  {
   "cell_type": "code",
   "execution_count": 271,
   "metadata": {},
   "outputs": [],
   "source": [
    "coords_lat0 = re.findall( expr_lat0, lines )"
   ]
  },
  {
   "cell_type": "code",
   "execution_count": 272,
   "metadata": {},
   "outputs": [
    {
     "data": {
      "text/plain": [
       "['20º 11\\' 30\" S',\n",
       " '20º 05\\' 20\" S',\n",
       " '20º 04\\' 32\" S',\n",
       " '20º 06\\' 30\" S',\n",
       " '20º 08\\' 30\" S',\n",
       " '20º 08\\' 30\" S',\n",
       " '20º 08\\' 20\" S',\n",
       " '20º 12\\' 00\" S',\n",
       " '20º 18\\' 00\" S',\n",
       " '20º 19\\' 43\" S',\n",
       " '20º 16\\' 55\" S',\n",
       " '20º 18\\' 37\" S',\n",
       " '20º 20\\' 27\" S',\n",
       " '20º 31\\' 32\" S',\n",
       " '20º 30\\' 27\" S',\n",
       " '20º 32\\' 09\" S',\n",
       " '20º 32\\' 09\" S',\n",
       " '20º 35\\' 29\" S',\n",
       " '20º 38\\' 55\" S',\n",
       " '20º 30\\' 22\" S',\n",
       " '20º 37\\' 35\" S',\n",
       " '20º 30\\' 29\" S',\n",
       " '20º 16\\' 48\" S',\n",
       " '20º 18\\'55\" S',\n",
       " '20º 17\\' 08\" S',\n",
       " '20º 11\\' 30\" S',\n",
       " '20º 11\\' 30\" S']"
      ]
     },
     "execution_count": 272,
     "metadata": {},
     "output_type": "execute_result"
    }
   ],
   "source": [
    "coords_lat0"
   ]
  },
  {
   "cell_type": "code",
   "execution_count": 285,
   "metadata": {},
   "outputs": [
    {
     "data": {
      "text/plain": [
       "25"
      ]
     },
     "execution_count": 285,
     "metadata": {},
     "output_type": "execute_result"
    }
   ],
   "source": [
    "len(coords_lat0)"
   ]
  },
  {
   "cell_type": "markdown",
   "metadata": {},
   "source": [
    "A diferença entre o # de latitudes e longitudes se deve por que no documento a pessoa se referiu a coordenadas repetidas para passar do ponto 16 para o 17 e do 25 para o 1 (fechando o polígono). Ambos apresentam a partícula \"de\", mas uma coordenada única também a apresenta (8)."
   ]
  },
  {
   "cell_type": "markdown",
   "metadata": {},
   "source": [
    "# Remoção de duplicatas"
   ]
  },
  {
   "cell_type": "markdown",
   "metadata": {},
   "source": [
    "A função definida abaixo remove duplicatas na ordem em que a lista foi criada. Ela cria um objeto seen para a função set() e seen_add para a função set.add() de tal forma que estas funções não precisam ser resolvidas a cada iteração (isso ocorre pela natureza dinâmica de python). De outra forma seria mais custoso em termos de processamento computacional, além de que seen_add poderia mudar entre as iterações, o que não é o que nós queremos."
   ]
  },
  {
   "cell_type": "code",
   "execution_count": 1,
   "metadata": {},
   "outputs": [],
   "source": [
    "def f7(seq):\n",
    "    seen = set()\n",
    "    seen_add = seen.add\n",
    "    return [x for x in seq if not (x in seen or seen_add(x))]"
   ]
  },
  {
   "cell_type": "code",
   "execution_count": 276,
   "metadata": {},
   "outputs": [],
   "source": [
    "coords_lat_norep = f7(coords_lat0)"
   ]
  },
  {
   "cell_type": "code",
   "execution_count": 278,
   "metadata": {},
   "outputs": [
    {
     "data": {
      "text/plain": [
       "['20º 11\\' 30\" S',\n",
       " '20º 05\\' 20\" S',\n",
       " '20º 04\\' 32\" S',\n",
       " '20º 06\\' 30\" S',\n",
       " '20º 08\\' 30\" S',\n",
       " '20º 08\\' 20\" S',\n",
       " '20º 12\\' 00\" S',\n",
       " '20º 18\\' 00\" S',\n",
       " '20º 19\\' 43\" S',\n",
       " '20º 16\\' 55\" S',\n",
       " '20º 18\\' 37\" S',\n",
       " '20º 20\\' 27\" S',\n",
       " '20º 31\\' 32\" S',\n",
       " '20º 30\\' 27\" S',\n",
       " '20º 32\\' 09\" S',\n",
       " '20º 35\\' 29\" S',\n",
       " '20º 38\\' 55\" S',\n",
       " '20º 30\\' 22\" S',\n",
       " '20º 37\\' 35\" S',\n",
       " '20º 30\\' 29\" S',\n",
       " '20º 16\\' 48\" S',\n",
       " '20º 18\\'55\" S',\n",
       " '20º 17\\' 08\" S']"
      ]
     },
     "execution_count": 278,
     "metadata": {},
     "output_type": "execute_result"
    }
   ],
   "source": [
    "coords_lat_norep"
   ]
  },
  {
   "cell_type": "code",
   "execution_count": 277,
   "metadata": {},
   "outputs": [
    {
     "data": {
      "text/plain": [
       "23"
      ]
     },
     "execution_count": 277,
     "metadata": {},
     "output_type": "execute_result"
    }
   ],
   "source": [
    "len(coords_lat_norep)"
   ]
  },
  {
   "cell_type": "markdown",
   "metadata": {},
   "source": [
    "Removeu mais do que o necessário, já que os pontos 1 e 25 apresentam a mesma latitude (além da coordenada repetida para fechar o polígono), assim como os 5 e 6. Logo, queremos remover apenas as entradas 16 e 26 (referentes às coordenadas repetidas que orientam os pontos próximos 16 > 17 e 25 > 1 -- lembre-se que a primeira entrada é 0). A função abaixo determina a remoção de itens ordenados da lista:"
   ]
  },
  {
   "cell_type": "code",
   "execution_count": 290,
   "metadata": {},
   "outputs": [],
   "source": [
    "indices = 16, 26\n",
    "\n",
    "\n",
    "for i in sorted(indices, reverse=True):\n",
    "    del coords_lat[i]"
   ]
  },
  {
   "cell_type": "code",
   "execution_count": 291,
   "metadata": {},
   "outputs": [
    {
     "data": {
      "text/plain": [
       "['latitude 20º 11\\' 30\" S',\n",
       " 'latitude 20º 05\\' 20\" S',\n",
       " 'latitude 20º 04\\' 32\" S',\n",
       " 'latitude 20º 06\\' 30\" S',\n",
       " 'latitude 20º 08\\' 30\" S',\n",
       " 'latitude 20º 08\\' 30\" S',\n",
       " 'latitude 20º 08\\' 20\" S',\n",
       " 'latitude de 20º 12\\' 00\" S',\n",
       " 'latitude 20º 18\\' 00\" S',\n",
       " 'latitude 20º 19\\' 43\" S',\n",
       " 'latitude 20º 16\\' 55\" S',\n",
       " 'latitude 20º 18\\' 37\" S',\n",
       " 'latitude 20º 20\\' 27\" S',\n",
       " 'latitude 20º 31\\' 32\" S',\n",
       " 'latitude 20º 30\\' 27\" S',\n",
       " 'latitude de 20º 32\\' 09\" S',\n",
       " 'latitude 20º 35\\' 29\" S',\n",
       " 'latitude 20º 38\\' 55\" S',\n",
       " 'latitude 20º 30\\' 22\" S',\n",
       " 'latitude 20º 37\\' 35\" S',\n",
       " 'latitude 20º 30\\' 29\" S',\n",
       " 'latitude 20º 16\\' 48\" S',\n",
       " 'latitude 20º 18\\'55\" S',\n",
       " 'latitude 20º 17\\' 08\" S',\n",
       " 'latitude de 20º 11\\' 30\" S']"
      ]
     },
     "execution_count": 291,
     "metadata": {},
     "output_type": "execute_result"
    }
   ],
   "source": [
    "coords_lat"
   ]
  },
  {
   "cell_type": "code",
   "execution_count": 296,
   "metadata": {
    "scrolled": true
   },
   "outputs": [
    {
     "data": {
      "text/plain": [
       "25"
      ]
     },
     "execution_count": 296,
     "metadata": {},
     "output_type": "execute_result"
    }
   ],
   "source": [
    "len(coords_long)"
   ]
  },
  {
   "cell_type": "markdown",
   "metadata": {},
   "source": [
    "Chegamos ao número que queríamos, já que são 25 pontos"
   ]
  },
  {
   "cell_type": "code",
   "execution_count": 298,
   "metadata": {},
   "outputs": [
    {
     "data": {
      "text/plain": [
       "list"
      ]
     },
     "execution_count": 298,
     "metadata": {},
     "output_type": "execute_result"
    }
   ],
   "source": [
    "type(coords_lat)"
   ]
  },
  {
   "cell_type": "markdown",
   "metadata": {},
   "source": [
    "## Estruturando coordenadas"
   ]
  },
  {
   "cell_type": "markdown",
   "metadata": {},
   "source": [
    "Agora que temos duas listas de strings armazenando as coordenadas na forma `XXº XX' XX\" S/W `, precisamos apenas juntas os valores de coordenadas em pares. Por conta disso, vamos representá-las como tuplas. A função zip abaixo realiza esta tarefa, mas como ela cria um objeto 'zip', devemos listá-lo para visualizar o que há gravado:"
   ]
  },
  {
   "cell_type": "code",
   "execution_count": 309,
   "metadata": {},
   "outputs": [],
   "source": [
    "coords_tuplas = list(zip(coords_lat0, coords_long0))"
   ]
  },
  {
   "cell_type": "code",
   "execution_count": 310,
   "metadata": {
    "scrolled": true
   },
   "outputs": [
    {
     "data": {
      "text/plain": [
       "[('20º 11\\' 30\" S', '47º 00\\' 00\" W'),\n",
       " ('20º 05\\' 20\" S', '46º 55\\' 10\" W'),\n",
       " ('20º 04\\' 32\" S', '46º 55\\' 10\" W'),\n",
       " ('20º 06\\' 30\" S', '46º 45\\' 40\" W'),\n",
       " ('20º 08\\' 30\" S', '46º 39\\' 55\" W'),\n",
       " ('20º 08\\' 30\" S', '46º 35\\' 15\" W'),\n",
       " ('20º 08\\' 20\" S', '46º 28\\' 32\" W'),\n",
       " ('20º 12\\' 00\" S', '46º 23\\' 44\" W'),\n",
       " ('20º 18\\' 00\" S', '46º 20\\' 52\" W'),\n",
       " ('20º 19\\' 43\" S', '46º 25\\' 27\" W'),\n",
       " ('20º 16\\' 55\" S', '46º 25\\' 51\" W'),\n",
       " ('20º 18\\' 37\" S', \"46º 03' W\"),\n",
       " ('20º 20\\' 27\" S', '46º 31\\' 03\" W'),\n",
       " ('20º 31\\' 32\" S', '46º 17\\' 09\" W'),\n",
       " ('20º 30\\' 27\" S', '46º 15\\' 00\" W'),\n",
       " ('20º 32\\' 09\" S', '46º 12\\' 02\" W'),\n",
       " ('20º 35\\' 29\" S', '46º 13\\' 18\" W'),\n",
       " ('20º 38\\' 55\" S', '46º 18\\' 51\" W'),\n",
       " ('20º 30\\' 22\" S', '46º 30\\' 02\" W'),\n",
       " ('20º 37\\' 35\" S', '46º 30\\' 03\" W'),\n",
       " ('20º 30\\' 29\" S', '46º 33\\' 21\" W'),\n",
       " ('20º 16\\' 48\" S', '46º 52\\' 17\" W'),\n",
       " ('20º 18\\'55\" S', '46º 43\\' 14\" W'),\n",
       " ('20º 17\\' 08\" S', '46º 43\\' 14\" W'),\n",
       " ('20º 11\\' 30\" S', '46º 57\\' 25\" W')]"
      ]
     },
     "execution_count": 310,
     "metadata": {},
     "output_type": "execute_result"
    }
   ],
   "source": [
    "coords_tuplas"
   ]
  },
  {
   "cell_type": "code",
   "execution_count": 311,
   "metadata": {},
   "outputs": [
    {
     "data": {
      "text/plain": [
       "25"
      ]
     },
     "execution_count": 311,
     "metadata": {},
     "output_type": "execute_result"
    }
   ],
   "source": [
    "len(coords_tuplas)"
   ]
  },
  {
   "cell_type": "markdown",
   "metadata": {},
   "source": [
    "Agora precisamos validar e corrigir as coordenadas na lista `coords`."
   ]
  },
  {
   "cell_type": "markdown",
   "metadata": {},
   "source": [
    "---"
   ]
  },
  {
   "cell_type": "markdown",
   "metadata": {},
   "source": [
    "## Validando as coordenadas"
   ]
  }
 ],
 "metadata": {
  "kernelspec": {
   "display_name": "Python 3",
   "language": "python",
   "name": "python3"
  },
  "language_info": {
   "codemirror_mode": {
    "name": "ipython",
    "version": 3
   },
   "file_extension": ".py",
   "mimetype": "text/x-python",
   "name": "python",
   "nbconvert_exporter": "python",
   "pygments_lexer": "ipython3",
   "version": "3.6.5"
  }
 },
 "nbformat": 4,
 "nbformat_minor": 2
}
