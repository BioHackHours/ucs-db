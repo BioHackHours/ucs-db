{
 "cells": [
  {
   "cell_type": "markdown",
   "metadata": {},
   "source": [
    "## Notebook 1\n",
    "# Extraindo coordenadas de decretos e leis"
   ]
  },
  {
   "cell_type": "markdown",
   "metadata": {},
   "source": [
    "Autores:\n",
    "* Pedro C. de Siracusa\n",
    "* André G. Coutinho\n",
    "* Waira Saravia Machida\n",
    "* Augusto Arcela\n",
    "* Yan Felipe Soares"
   ]
  },
  {
   "cell_type": "markdown",
   "metadata": {},
   "source": [
    "---"
   ]
  },
  {
   "cell_type": "markdown",
   "metadata": {},
   "source": [
    "Neste estudo exploramos decretos e leis que embasam a criação de UCs, em âmbitos Federal e Municipal.\n",
    "O objetivo é extrair as coordenadas que delimitam as UCs, de forma que possamos posteriormente projetar o polígono em um ambiente SIG. \n",
    "Os **principais desafios**:\n",
    "\n",
    "* Os documentos estão no formato `.pdf`, não muito amigável para a extração de dados. Algumas bibliotecas auxiliam na extração de texto de arquivos `.pdf`, mas elas nem sempre funcionam como esperamos. Isso porque estes arquivos podem ter sido codificados de muitas formas diferentes, e nem sempre conseguimos fazer a extração.\n",
    "\n",
    "* Os documentos não seguem um padrão estrutural, o que significa que nem sempre a informação que desejamos está no mesmo lugar ou se apresenta da mesma forma. Isso dificulta a extração inteiramente automatizada da informação nestes documentos.\n",
    "\n",
    "* A delimitação das UCs é apresentada de forma descritiva nestes documentos. Em alguns poucos casos as coordenadas são organizadas em uma tabela, facilitando um pouco a extração."
   ]
  },
  {
   "cell_type": "markdown",
   "metadata": {},
   "source": [
    "Vamos começar explorando o **Decreto No.37826** da Assembleia de Minas Gerais, que altera a categoria de manejo da Reserva Biológica de Corumbá e fixa seus limites.\n",
    "O documento está nomeado com o`d37826.pdf`, localizado dentro do diretório `data`, na raiz do projeto."
   ]
  },
  {
   "cell_type": "markdown",
   "metadata": {},
   "source": [
    "O primeiro passo foi extrair (manualmente) a parte do documento que descreve a delimitação da UC.\n",
    "Armazenamos esta informação no arquivo `d37826_limits.txt`, para facilitar a leitura e extração de coordenadas do texto."
   ]
  },
  {
   "cell_type": "code",
   "execution_count": 8,
   "metadata": {},
   "outputs": [],
   "source": [
    "fpath = '../data/decretos/limits/d37826_limits.txt'"
   ]
  },
  {
   "cell_type": "markdown",
   "metadata": {},
   "source": [
    "Agora vamos abrir o arquivo, ler as linhas de texto e armazenar numa variável `lines`. Na célula abaixo usamos uma estrutura do *Python* que se chama [context manager](https://docs.python.org/3/reference/compound_stmts.html#with), para facilitar a abertura/fechamento de arquivos."
   ]
  },
  {
   "cell_type": "code",
   "execution_count": 9,
   "metadata": {},
   "outputs": [],
   "source": [
    "with open(fpath, encoding='utf-8') as f:\n",
    "    lines =''.join( f.readlines() )"
   ]
  },
  {
   "cell_type": "markdown",
   "metadata": {},
   "source": [
    "Vejamos os 1000 primeiros caracteres do texto:"
   ]
  },
  {
   "cell_type": "code",
   "execution_count": 18,
   "metadata": {},
   "outputs": [
    {
     "data": {
      "text/plain": [
       "'Memorial descritivo de medição e demarcação da Estação Ecológica Corumbá, localizada à margem da Rodovia Corumbá/Arcos, nas proximidades do trevo para a COMIG, no lugar denominado Corumbá, cuja gleba e delimitada por um polígono irregular. O ponto de partida foi localizado no marco cravado na distância de 1,00 m, à esquerda do canto da cerca de divisa entre a Estação Ecológica, a Rodovia Arcos—Corumbá e Rolando Alves de Souza, com as coordenadasabsolutas E-10.000,000 e N-5.000,000; daí, segue confrontando com Rolando Alves de Souza, com o azimute de 298238\\'00\", na distância de 296,103 m, até atingir o vértice nº 01, de coordenadas E-9.740,175 e N-5.141,866; segue pela cerca de divisa à esquerda, na distância de 1,50 m; segue a ré, na distância de 276,00 m, pelo Córrego Santo Antônio, e sai; segue a ré, na distância de 193,00 m, e cruza a rede telefônica; daí, segue com o azimute de 301°42\\'124\", na distância de 128,861 m, até atingir o vértice nº 02, de coordenadas E-9.633,126 e N-5.208 (...)'"
      ]
     },
     "execution_count": 18,
     "metadata": {},
     "output_type": "execute_result"
    }
   ],
   "source": [
    "lines[:1000]+' (...)'"
   ]
  },
  {
   "cell_type": "markdown",
   "metadata": {},
   "source": [
    "Neste caso, as coordenadas parecem estar descritas em UTM seguindo o padrão `E-X.XXX,XXX e N-X.XXX,XXX`.\n",
    "Para extrair o texto que segue este padrão vamos usar **expressões regulares**."
   ]
  },
  {
   "cell_type": "markdown",
   "metadata": {},
   "source": [
    "---"
   ]
  },
  {
   "cell_type": "markdown",
   "metadata": {},
   "source": [
    "## Regular Expressions"
   ]
  },
  {
   "cell_type": "markdown",
   "metadata": {},
   "source": [
    "Expressões regulares servem para definirmos padrões de busca em um texto. Uma vez definido o padrão que desejamos buscar, o texto é percorrido tentando encontrar \"casamentos\", que podem então ser retornados. Usaremos expressões regulares para tentar extrair as coordenadas, assumindo que elas tenham sido inseridas em um padrão relativamente estável."
   ]
  },
  {
   "cell_type": "markdown",
   "metadata": {},
   "source": [
    "Alguns exemplos e guias de como se utilizar expressões regulares: \n",
    "1. https://medium.com/tech-tajawal/regular-expressions-the-last-guide-6800283ac034\n",
    "1. https://medium.com/factory-mind/regex-tutorial-a-simple-cheatsheet-by-examples-649dc1c3f285\n",
    "1. http://www.rexegg.com/regex-quickstart.html#ref"
   ]
  },
  {
   "cell_type": "markdown",
   "metadata": {},
   "source": [
    "O *Python* já fornece um módulo que nos permite trabalhar com expressões regulares de forma facilitada. O nome do módulo é `re`, e para usá-lo precisamos importá-lo. Veja [aqui](https://docs.python.org/3/howto/regex.html) como usar expressões regulares com o módulo `re`."
   ]
  },
  {
   "cell_type": "code",
   "execution_count": 22,
   "metadata": {},
   "outputs": [],
   "source": [
    "import re"
   ]
  },
  {
   "cell_type": "markdown",
   "metadata": {},
   "source": [
    "#### Primeira tentativa"
   ]
  },
  {
   "cell_type": "markdown",
   "metadata": {},
   "source": [
    "Abaixo vamos fazer uma primeira tentativa de expressão para capturar as coordenadas. Guardamos a expressão em uma variável de nome `expr`."
   ]
  },
  {
   "cell_type": "code",
   "execution_count": 19,
   "metadata": {},
   "outputs": [],
   "source": [
    "expr = '[EN]\\-?[0-9\\.\\-,]+,[0-9]{1,3}'"
   ]
  },
  {
   "cell_type": "markdown",
   "metadata": {},
   "source": [
    "Agora vamos usar a função `findall` para encontrar todos os *\"matches\"* para esta expressão. As coordenadas obtidas são armazenadas na variável `coords`. Para melhorar a visualização vou olhar apenas para as 10 primeiras coordenadas que foram obtidas."
   ]
  },
  {
   "cell_type": "code",
   "execution_count": 23,
   "metadata": {},
   "outputs": [],
   "source": [
    "coords = re.findall( expr , lines )"
   ]
  },
  {
   "cell_type": "code",
   "execution_count": 25,
   "metadata": {},
   "outputs": [
    {
     "data": {
      "text/plain": [
       "['E-10.000,000',\n",
       " 'N-5.000,000',\n",
       " 'E-9.740,175',\n",
       " 'N-5.141,866',\n",
       " 'E-9.633,126',\n",
       " 'N-5.208,003',\n",
       " 'E-9.589,200',\n",
       " 'N-5.238,457',\n",
       " 'E-9.661,851',\n",
       " 'N-5.426,092']"
      ]
     },
     "execution_count": 25,
     "metadata": {},
     "output_type": "execute_result"
    }
   ],
   "source": [
    "coords[:10]"
   ]
  },
  {
   "cell_type": "markdown",
   "metadata": {},
   "source": [
    "Quantas coordenadas foram obtidas ao todo?"
   ]
  },
  {
   "cell_type": "code",
   "execution_count": 26,
   "metadata": {},
   "outputs": [
    {
     "data": {
      "text/plain": [
       "228"
      ]
     },
     "execution_count": 26,
     "metadata": {},
     "output_type": "execute_result"
    }
   ],
   "source": [
    "len(coords)"
   ]
  },
  {
   "cell_type": "markdown",
   "metadata": {},
   "source": [
    "Um problema deste método que usamos acima é que fica um pouco difícil validar se as coordenadas realmente estão sendo extraídas em pares. Caso uma delas não tenha sido capturada, isso pode gerar uma deformação do polígono extraído."
   ]
  },
  {
   "cell_type": "markdown",
   "metadata": {},
   "source": [
    "#### Segunda tentativa"
   ]
  },
  {
   "cell_type": "markdown",
   "metadata": {},
   "source": [
    "Vamos fazer uma segunda tentativa. Agora, queremos incluir também a palavra 'coordenadas', que parece sempre indicar um novo par de coordenadas no texto original."
   ]
  },
  {
   "cell_type": "code",
   "execution_count": 34,
   "metadata": {},
   "outputs": [],
   "source": [
    "expr = 'coordenadas [EN]\\-?[0-9\\.\\-,]+,[0-9]{1,3} e [EN]\\-?[0-9\\.\\-,]+,[0-9]{1,3}'"
   ]
  },
  {
   "cell_type": "code",
   "execution_count": 35,
   "metadata": {},
   "outputs": [],
   "source": [
    "coords = re.findall( expr, lines )"
   ]
  },
  {
   "cell_type": "code",
   "execution_count": 36,
   "metadata": {},
   "outputs": [
    {
     "data": {
      "text/plain": [
       "['coordenadas E-9.740,175 e N-5.141,866',\n",
       " 'coordenadas E-9.633,126 e N-5.208,003',\n",
       " 'coordenadas E-9.589,200 e N-5.238,457',\n",
       " 'coordenadas E-9.661,851 e N-5.426,092',\n",
       " 'coordenadas E-9.634,180 e N-5.422,209',\n",
       " 'coordenadas E-9.712,095 e N5.551,784',\n",
       " 'coordenadas E-9.696,339 e N-5.553,894',\n",
       " 'coordenadas E-9.719,684 e N-5.706,781',\n",
       " 'coordenadas E-9.170,600 e N-5.598,175',\n",
       " 'coordenadas E9.668,726 e N-5.632,721']"
      ]
     },
     "execution_count": 36,
     "metadata": {},
     "output_type": "execute_result"
    }
   ],
   "source": [
    "coords[:10] # observando apenas as primeiras 10 entradas"
   ]
  },
  {
   "cell_type": "markdown",
   "metadata": {},
   "source": [
    "No texto original, existem no total 83 vértices. Quantos vértices conseguimos extrair com o método acima?"
   ]
  },
  {
   "cell_type": "code",
   "execution_count": 37,
   "metadata": {},
   "outputs": [
    {
     "data": {
      "text/plain": [
       "113"
      ]
     },
     "execution_count": 37,
     "metadata": {},
     "output_type": "execute_result"
    }
   ],
   "source": [
    "len(coords)"
   ]
  },
  {
   "cell_type": "markdown",
   "metadata": {},
   "source": [
    "Isso aconteceu porque, além da numeração de vértices, a pessoa que elaborou o documento também descreveu coordenadas usando outros termos que descrevem coordenadas, como 'irradiação'. Optamos por usar também estas coordenadas."
   ]
  },
  {
   "cell_type": "markdown",
   "metadata": {},
   "source": [
    "---"
   ]
  },
  {
   "cell_type": "markdown",
   "metadata": {},
   "source": [
    "## Estruturando coordenadas"
   ]
  },
  {
   "cell_type": "markdown",
   "metadata": {},
   "source": [
    "Agora que temos uma lista de strings armazenando coordenadas na forma `coordenadas E-X.XXX,XX e N-X.XXX,XXX`, precisamos extrair apenas os valores de coordenadas propriamente ditas.\n",
    "Como cada coordenada é formada por um par de valores, vamos representá-las como tuplas. A função abaixo realiza esta tarefa:"
   ]
  },
  {
   "cell_type": "code",
   "execution_count": 39,
   "metadata": {},
   "outputs": [],
   "source": [
    "def getCoords(coordsStr):\n",
    "    coordsStrSplit = coordsStr.split(' ')\n",
    "    return ( coordsStrSplit[1], coordsStrSplit[-1] )"
   ]
  },
  {
   "cell_type": "markdown",
   "metadata": {},
   "source": [
    "Sendo assim, podemos obter uma lista de pares ordenados, cada qual formando uma coordenada. Aplicaremos a função `getCoords` sobre cada elemento da lista na variável `coords`. Ao final, sobreescreveremos a variável `coords` para conter a nova lista de tuplas (em vez da antiga lista de strings)."
   ]
  },
  {
   "cell_type": "code",
   "execution_count": 44,
   "metadata": {},
   "outputs": [],
   "source": [
    "coords = [ getCoords(c) for c in coords ]"
   ]
  },
  {
   "cell_type": "markdown",
   "metadata": {},
   "source": [
    "> nota: a estrutura acima é nativa do *Python*, e é conhecida como \"compreensão de listas\" (**list comprehension**). Ela permite a construção de listas de forma bastante rápida, usando expressões 'for'."
   ]
  },
  {
   "cell_type": "markdown",
   "metadata": {},
   "source": [
    "Vejamos os 10 primeiros valores que obtivemos:"
   ]
  },
  {
   "cell_type": "code",
   "execution_count": 46,
   "metadata": {},
   "outputs": [
    {
     "data": {
      "text/plain": [
       "[('E-9.740,175', 'N-5.141,866'),\n",
       " ('E-9.633,126', 'N-5.208,003'),\n",
       " ('E-9.589,200', 'N-5.238,457'),\n",
       " ('E-9.661,851', 'N-5.426,092'),\n",
       " ('E-9.634,180', 'N-5.422,209'),\n",
       " ('E-9.712,095', 'N5.551,784'),\n",
       " ('E-9.696,339', 'N-5.553,894'),\n",
       " ('E-9.719,684', 'N-5.706,781'),\n",
       " ('E-9.170,600', 'N-5.598,175'),\n",
       " ('E9.668,726', 'N-5.632,721')]"
      ]
     },
     "execution_count": 46,
     "metadata": {},
     "output_type": "execute_result"
    }
   ],
   "source": [
    "coords[:10]"
   ]
  },
  {
   "cell_type": "markdown",
   "metadata": {},
   "source": [
    "Agora precisamos validar e corrigir as coordenadas na lista `coords`."
   ]
  },
  {
   "cell_type": "markdown",
   "metadata": {},
   "source": [
    "---"
   ]
  },
  {
   "cell_type": "markdown",
   "metadata": {},
   "source": [
    "## Validando as coordenadas"
   ]
  },
  {
   "cell_type": "code",
   "execution_count": 58,
   "metadata": {},
   "outputs": [],
   "source": [
    "fixDecimal = lambda x: x.replace('.','').replace(',','.')"
   ]
  },
  {
   "cell_type": "code",
   "execution_count": 59,
   "metadata": {},
   "outputs": [
    {
     "data": {
      "text/plain": [
       "[('E-9740.175', 'N-5141.866'),\n",
       " ('E-9633.126', 'N-5208.003'),\n",
       " ('E-9589.200', 'N-5238.457'),\n",
       " ('E-9661.851', 'N-5426.092'),\n",
       " ('E-9634.180', 'N-5422.209'),\n",
       " ('E-9712.095', 'N5551.784'),\n",
       " ('E-9696.339', 'N-5553.894'),\n",
       " ('E-9719.684', 'N-5706.781'),\n",
       " ('E-9170.600', 'N-5598.175'),\n",
       " ('E9668.726', 'N-5632.721'),\n",
       " ('E-9706.017', 'N-5696.076'),\n",
       " ('E-9689.773', 'N-5735.972'),\n",
       " ('E-906.089', 'N-5804.720'),\n",
       " ('E-9575.597', 'N-6053.718'),\n",
       " ('E-9572.885', 'N-6076.549'),\n",
       " ('E-9534.847', 'N6068.565'),\n",
       " ('E-9507.959', 'N-6230.886'),\n",
       " ('E-9499.481', 'N-6085.920'),\n",
       " ('E-9444.098', 'N-5979.095'),\n",
       " ('E-9363.137', 'N-5901.473'),\n",
       " ('E-367.445', 'N5956.872'),\n",
       " ('E-9382.204', 'N-6072.590'),\n",
       " ('E-9408.169', 'N-6197.588'),\n",
       " ('E-9352.294', 'N-6343.442'),\n",
       " ('E-9267.145', 'N-6545.753'),\n",
       " ('E-9300.187', 'N-4462.741'),\n",
       " ('E-9235.441', 'N-6251.967'),\n",
       " ('E-9200.010', 'N-6602.572'),\n",
       " ('E-9124.414', 'N-6679.944'),\n",
       " ('E-8843.971', 'N-6913.206'),\n",
       " ('E-8934.036', 'N-6815.326'),\n",
       " ('E-8827.770', 'N6784.257'),\n",
       " ('E-8759.079', 'N-6828.494'),\n",
       " ('E8697.270', 'N-6858.665'),\n",
       " ('E8582.350', 'N-6791.960'),\n",
       " ('E-8523.196', 'N-6839.661'),\n",
       " ('E-8457.827', 'N-6880.889'),\n",
       " ('E-8433.727', 'N-6849.889'),\n",
       " ('E-8438.875', 'N-6637.595'),\n",
       " ('E-8469.256', 'N-6709.767'),\n",
       " ('E-8480.430', 'N-6640.736'),\n",
       " ('E-8379.991', 'N-6535.021'),\n",
       " ('E-8269.317', 'N-6559.277'),\n",
       " ('E-8327.462', 'N-6585.844'),\n",
       " ('E8255.261', 'N-6275.311'),\n",
       " ('E-8204.576', 'N-6266.908'),\n",
       " ('E-8194.342', 'N-6299.137'),\n",
       " ('E-8189.725', 'N-6146.957'),\n",
       " ('E-8208.901', 'N-6153.297'),\n",
       " ('E-8184.932', 'N-6099.311'),\n",
       " ('E-8106.660', 'N-6186.343'),\n",
       " ('E-8078.032', 'N-6205.179'),\n",
       " ('E-8037.759', 'N6214.778'),\n",
       " ('E-7962.331', 'N-6215.228'),\n",
       " ('E7716.312', 'N-6291.730'),\n",
       " ('E-7859.750', 'N-6215.578'),\n",
       " ('E-7725.166', 'N-6287.388'),\n",
       " ('E-7594.028', 'N-6320.173'),\n",
       " ('E-7660.397', 'N-6289.793'),\n",
       " ('E-7552.437', 'N-6329.022'),\n",
       " ('E-7-208.729', 'N-6229.251'),\n",
       " ('E-7359.988', 'N-6246.720'),\n",
       " ('E7218.247', 'N-6137.466'),\n",
       " ('E-7270.728', 'N-5876.793'),\n",
       " ('E-7243.293', 'N-5737.976'),\n",
       " ('E-7238.823', 'N-5697.016'),\n",
       " ('E-7256.954', 'N-5648.763'),\n",
       " ('E-7267.738', 'N-5628.280'),\n",
       " ('E-7276.569', 'N-5604.995'),\n",
       " ('E-7327.108', 'N-5600.270'),\n",
       " ('E-7379.388', 'N-5593.138'),\n",
       " ('E-7419.349', 'N-5600.021'),\n",
       " ('E-7433.200', 'N-5600.087'),\n",
       " ('E-7484.813', 'N-5581.912'),\n",
       " ('E-7527.935', 'N-5567.625'),\n",
       " ('E-7570.745', 'N-5553.213'),\n",
       " ('E-7599.178', 'N-5547.465'),\n",
       " ('E-7634.120', 'N5526.465'),\n",
       " ('E7658.406', 'N-5511.103'),\n",
       " ('E-7741.888', 'N-5459.715'),\n",
       " ('E-7732.198', 'N5431.997'),\n",
       " ('E-7756.104', 'N-5416.392'),\n",
       " ('E-7775.046', 'N-5406.171'),\n",
       " ('E-7807.293', 'N-5442.125'),\n",
       " ('E-7832.707', 'N-5461.785'),\n",
       " ('E-7853.124', 'N-5461.039'),\n",
       " ('E-7869.625', 'N-5463.539'),\n",
       " ('E-7902.300', 'N-5462.854'),\n",
       " ('E-7947.594', 'N5411.730'),\n",
       " ('E-8022.490', 'N-5373.351'),\n",
       " ('E-8057.736', 'N-5328.638'),\n",
       " ('E-8.124.676', 'N-5317.785'),\n",
       " ('E-8157.299', 'N-5314.461'),\n",
       " ('E-8250.575', 'N-5253.599'),\n",
       " ('E-8278.954', 'N-5221.869'),\n",
       " ('E-8341.735', 'N-5139.089'),\n",
       " ('E-8387.344', 'N-5047.788'),\n",
       " ('E-8376.871', 'N-5008.270'),\n",
       " ('E-8370.435', 'N-4978.367'),\n",
       " ('E8413.270', 'N-4988.312'),\n",
       " ('E-8861.548', 'N-5050.579'),\n",
       " ('E-8802.791', 'N-5078.716'),\n",
       " ('E-9051.710', 'N-5136.528'),\n",
       " ('E-9156.790', 'N-5048.576'),\n",
       " ('E-9260.789', 'N-4958.168'),\n",
       " ('E9303.435', 'N-4921.094'),\n",
       " ('E-9368.796', 'N-4864.295'),\n",
       " ('E-9501.246', 'N4740.644'),\n",
       " ('E-9625.356', 'N4780.670'),\n",
       " ('E-9682.082', 'N-4704.234'),\n",
       " ('E-9794.462', 'N-4773.493'),\n",
       " ('E-9860.109', 'N-4826.868'),\n",
       " ('E-10000.000', 'N-5000.000')]"
      ]
     },
     "execution_count": 59,
     "metadata": {},
     "output_type": "execute_result"
    }
   ],
   "source": [
    "[ (fixDecimal(e), fixDecimal(n)) for e,n in coords ]"
   ]
  }
 ],
 "metadata": {
  "kernelspec": {
   "display_name": "Python 3",
   "language": "python",
   "name": "python3"
  },
  "language_info": {
   "codemirror_mode": {
    "name": "ipython",
    "version": 3
   },
   "file_extension": ".py",
   "mimetype": "text/x-python",
   "name": "python",
   "nbconvert_exporter": "python",
   "pygments_lexer": "ipython3",
   "version": "3.6.5"
  }
 },
 "nbformat": 4,
 "nbformat_minor": 2
}
